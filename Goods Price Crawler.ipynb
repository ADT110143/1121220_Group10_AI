{
 "cells": [
  {
   "cell_type": "code",
   "execution_count": 1,
   "id": "7957a9b5",
   "metadata": {},
   "outputs": [
    {
     "name": "stdout",
     "output_type": "stream",
     "text": [
      "商品名稱: 樂事洋芋片美國經典原味119g\n",
      "商品價格: 56\n"
     ]
    }
   ],
   "source": [
    "#樂事洋芋片美國經典原味119g\n",
    "import requests\n",
    "from bs4 import BeautifulSoup\n",
    "\n",
    "url = \"https://online.carrefour.com.tw/zh/1402001600101.html\"\n",
    "\n",
    "# 發送 GET 請求\n",
    "response = requests.get(url)\n",
    "\n",
    "# 檢查請求是否成功\n",
    "if response.status_code == 200:\n",
    "    # 使用 BeautifulSoup 解析 HTML\n",
    "    soup = BeautifulSoup(response.text, 'html.parser')\n",
    "\n",
    "    # 找到包含商品信息的 div 元素\n",
    "    goods_info_div = soup.find('div', class_='goods-info')\n",
    "\n",
    "    # 檢查是否找到了商品信息元素\n",
    "    if goods_info_div:\n",
    "        # 找到商品名稱\n",
    "        product_name = goods_info_div.find('h1').text.strip()\n",
    "        print(\"商品名稱:\", product_name)\n",
    "\n",
    "        # 找到商品價格\n",
    "        product_price = goods_info_div.find('span', class_='money').text.strip()\n",
    "        print(\"商品價格:\", product_price)\n",
    "    else:\n",
    "        print(\"未找到商品信息元素\")\n",
    "else:\n",
    "    print(\"請求失敗\")\n"
   ]
  },
  {
   "cell_type": "code",
   "execution_count": 2,
   "id": "08c20d85",
   "metadata": {},
   "outputs": [
    {
     "name": "stdout",
     "output_type": "stream",
     "text": [
      "商品名稱: 光泉果汁時刻 100%柳橙綜合果汁-290ml到貨效期約6-8天\n",
      "商品價格: 32\n"
     ]
    }
   ],
   "source": [
    "#光泉果汁時刻 100%柳橙綜合果汁-290ml\n",
    "import requests\n",
    "from bs4 import BeautifulSoup\n",
    "\n",
    "url = \"https://online.carrefour.com.tw/zh/%E5%85%89%E6%B3%89%E6%9E%9C%E6%B1%81%E6%99%82%E5%88%BB/1505001700101.html\"\n",
    "\n",
    "# 發送 GET 請求\n",
    "response = requests.get(url)\n",
    "\n",
    "# 檢查請求是否成功\n",
    "if response.status_code == 200:\n",
    "    # 使用 BeautifulSoup 解析 HTML\n",
    "    soup = BeautifulSoup(response.text, 'html.parser')\n",
    "\n",
    "    # 找到包含商品信息的 div 元素\n",
    "    goods_info_div = soup.find('div', class_='goods-info')\n",
    "\n",
    "    # 檢查是否找到了商品信息元素\n",
    "    if goods_info_div:\n",
    "        # 找到商品名稱\n",
    "        product_name = goods_info_div.find('h1').text.strip()\n",
    "        print(\"商品名稱:\", product_name)\n",
    "\n",
    "        # 找到商品價格\n",
    "        product_price = goods_info_div.find('span', class_='money').text.strip()\n",
    "        print(\"商品價格:\", product_price)\n",
    "    else:\n",
    "        print(\"未找到商品信息元素\")\n",
    "else:\n",
    "    print(\"請求失敗\")"
   ]
  },
  {
   "cell_type": "code",
   "execution_count": 3,
   "id": "cbd10668",
   "metadata": {},
   "outputs": [
    {
     "name": "stdout",
     "output_type": "stream",
     "text": [
      "商品名稱: Gery捲心酥(黑巧克力味)\n",
      "商品價格: 42\n"
     ]
    }
   ],
   "source": [
    "#Gery捲心酥(黑巧克力味)\n",
    "import requests\n",
    "from bs4 import BeautifulSoup\n",
    "\n",
    "url = \"https://online.carrefour.com.tw/zh/gery/1413107400101.html\"\n",
    "\n",
    "# 發送 GET 請求\n",
    "response = requests.get(url)\n",
    "\n",
    "# 檢查請求是否成功\n",
    "if response.status_code == 200:\n",
    "    # 使用 BeautifulSoup 解析 HTML\n",
    "    soup = BeautifulSoup(response.text, 'html.parser')\n",
    "\n",
    "    # 找到包含商品信息的 div 元素\n",
    "    goods_info_div = soup.find('div', class_='goods-info')\n",
    "\n",
    "    # 檢查是否找到了商品信息元素\n",
    "    if goods_info_div:\n",
    "        # 找到商品名稱\n",
    "        product_name = goods_info_div.find('h1').text.strip()\n",
    "        print(\"商品名稱:\", product_name)\n",
    "\n",
    "        # 找到商品價格\n",
    "        product_price = goods_info_div.find('span', class_='money').text.strip()\n",
    "        print(\"商品價格:\", product_price)\n",
    "    else:\n",
    "        print(\"未找到商品信息元素\")\n",
    "else:\n",
    "    print(\"請求失敗\")\n"
   ]
  },
  {
   "cell_type": "code",
   "execution_count": 5,
   "id": "6fe8d1a1",
   "metadata": {},
   "outputs": [
    {
     "name": "stdout",
     "output_type": "stream",
     "text": [
      "商品名稱: 瑞穗鮮乳-全脂1858ml到貨效期約6-8天\n",
      "商品價格: 166\n"
     ]
    }
   ],
   "source": [
    "#Binggrae香蕉牛奶(保久調味乳)200ml 6入\n",
    "import requests\n",
    "from bs4 import BeautifulSoup\n",
    "\n",
    "url = \"https://online.carrefour.com.tw/zh/1501202200106.html\"\n",
    "\n",
    "# 發送 GET 請求\n",
    "response = requests.get(url)\n",
    "\n",
    "# 檢查請求是否成功\n",
    "if response.status_code == 200:\n",
    "    # 使用 BeautifulSoup 解析 HTML\n",
    "    soup = BeautifulSoup(response.text, 'html.parser')\n",
    "\n",
    "    # 找到包含商品信息的 div 元素\n",
    "    goods_info_div = soup.find('div', class_='goods-info')\n",
    "\n",
    "    # 檢查是否找到了商品信息元素\n",
    "    if goods_info_div:\n",
    "        # 找到商品名稱\n",
    "        product_name = goods_info_div.find('h1').text.strip()\n",
    "        print(\"商品名稱:\", product_name,'6入')\n",
    "\n",
    "        # 找到商品價格\n",
    "        product_price = goods_info_div.find('span', class_='money').text.strip()\n",
    "        print(\"商品價格:\", product_price)\n",
    "    else:\n",
    "        print(\"未找到商品信息元素\")\n",
    "else:\n",
    "    print(\"請求失敗\")"
   ]
  },
  {
   "cell_type": "code",
   "execution_count": 6,
   "id": "5462abc4",
   "metadata": {},
   "outputs": [
    {
     "name": "stdout",
     "output_type": "stream",
     "text": [
      "商品名稱: 來一客-鮮蝦魚板-63g 6入\n",
      "商品價格: 65\n"
     ]
    }
   ],
   "source": [
    "#來一客-鮮蝦魚板-63g 6入\n",
    "import requests\n",
    "from bs4 import BeautifulSoup\n",
    "\n",
    "url = \"https://online.carrefour.com.tw/zh/%E7%B5%B1%E4%B8%80/1450300300103.html\"\n",
    "\n",
    "# 發送 GET 請求\n",
    "response = requests.get(url)\n",
    "\n",
    "# 檢查請求是否成功\n",
    "if response.status_code == 200:\n",
    "    # 使用 BeautifulSoup 解析 HTML\n",
    "    soup = BeautifulSoup(response.text, 'html.parser')\n",
    "\n",
    "    # 找到包含商品信息的 div 元素\n",
    "    goods_info_div = soup.find('div', class_='goods-info')\n",
    "\n",
    "    # 檢查是否找到了商品信息元素\n",
    "    if goods_info_div:\n",
    "        # 找到商品名稱\n",
    "        product_name = goods_info_div.find('h1').text.strip()\n",
    "        print(\"商品名稱:\", product_name,'6入')\n",
    "\n",
    "        # 找到商品價格\n",
    "        product_price = goods_info_div.find('span', class_='money').text.strip()\n",
    "        print(\"商品價格:\", product_price)\n",
    "    else:\n",
    "        print(\"未找到商品信息元素\")\n",
    "else:\n",
    "    print(\"請求失敗\")"
   ]
  }
 ],
 "metadata": {
  "kernelspec": {
   "display_name": "Python 3 (ipykernel)",
   "language": "python",
   "name": "python3"
  },
  "language_info": {
   "codemirror_mode": {
    "name": "ipython",
    "version": 3
   },
   "file_extension": ".py",
   "mimetype": "text/x-python",
   "name": "python",
   "nbconvert_exporter": "python",
   "pygments_lexer": "ipython3",
   "version": "3.11.5"
  }
 },
 "nbformat": 4,
 "nbformat_minor": 5
}
